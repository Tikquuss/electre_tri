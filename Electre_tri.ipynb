{
  "nbformat": 4,
  "nbformat_minor": 0,
  "metadata": {
    "colab": {
      "name": "Electre_tri.ipynb",
      "provenance": [],
      "collapsed_sections": [],
      "toc_visible": true,
      "include_colab_link": true
    },
    "kernelspec": {
      "display_name": "Python 3",
      "name": "python3"
    }
  },
  "cells": [
    {
      "cell_type": "markdown",
      "metadata": {
        "id": "view-in-github",
        "colab_type": "text"
      },
      "source": [
        "<a href=\"https://colab.research.google.com/github/Tikquuss/electre_tri/blob/main/Electre_tri.ipynb\" target=\"_parent\"><img src=\"https://colab.research.google.com/assets/colab-badge.svg\" alt=\"Open In Colab\"/></a>"
      ]
    },
    {
      "cell_type": "markdown",
      "metadata": {
        "id": "G5XewYkIZk1g"
      },
      "source": [
        ""
      ]
    },
    {
      "cell_type": "markdown",
      "metadata": {
        "id": "iSVHupLA9M06"
      },
      "source": [
        "# **Les fonctions utiles**"
      ]
    },
    {
      "cell_type": "markdown",
      "metadata": {
        "id": "YBud6hVl6vmx"
      },
      "source": [
        "**Les imports nécessaires**"
      ]
    },
    {
      "cell_type": "code",
      "metadata": {
        "id": "NdcZLppMZpb5"
      },
      "source": [
        "import itertools\n",
        "import os\n",
        "import pandas as pd"
      ],
      "execution_count": 1,
      "outputs": []
    },
    {
      "cell_type": "markdown",
      "metadata": {
        "id": "a2GulBKI-k0y"
      },
      "source": [
        "## **Étape 1 : Détermination des indices de concordance partiels**"
      ]
    },
    {
      "cell_type": "markdown",
      "metadata": {
        "id": "nMmd_AwS9j6V"
      },
      "source": [
        "### **Calcul de $c_j(H, b_i)$ et de $c_j(b_i, H)$**"
      ]
    },
    {
      "cell_type": "markdown",
      "metadata": {
        "id": "0zAqNSQaBY9-"
      },
      "source": [
        "Pour chaque critère $j$, l’indice de concordance partiel entre l’aliment $H$ et le profil bi est donné par :\r\n",
        "* Si la fonction $g_j$ est à maximiser :\r\n",
        "\r\n",
        "$\r\n",
        "c_j(H, b_i) = \\left\\{\r\n",
        "    \\begin{array}{ll}\r\n",
        "        1 & \\mbox{si } g_j(H) \\geq  g_j(b_i) \\\\\r\n",
        "        0 & \\mbox{sinon.}\r\n",
        "    \\end{array}\r\n",
        "\\right. \r\n",
        "$ et $\r\n",
        "c_j(b_i, H) = \\left\\{\r\n",
        "    \\begin{array}{ll}\r\n",
        "        1 & \\mbox{si } g_j(b_i) \\geq  g_j(H) \\\\\r\n",
        "        0 & \\mbox{sinon.}\r\n",
        "    \\end{array}\r\n",
        "\\right.\r\n",
        "$\r\n",
        "* Si la fonction $g_j$ est à minimiser :\r\n",
        "\r\n",
        "$\r\n",
        "c_j(H, b_i) = \\left\\{\r\n",
        "    \\begin{array}{ll}\r\n",
        "        1 & \\mbox{si } g_j(b_i) \\geq  g_j(H) \\\\\r\n",
        "        0 & \\mbox{sinon.}\r\n",
        "    \\end{array}\r\n",
        "\\right. \r\n",
        "$ et $\r\n",
        "c_j(b_i, H) = \\left\\{\r\n",
        "    \\begin{array}{ll}\r\n",
        "        1 & \\mbox{si } g_j(H) \\geq  g_j(b_i) \\\\\r\n",
        "        0 & \\mbox{sinon.}\r\n",
        "    \\end{array}\r\n",
        "\\right.\r\n",
        "$\r\n",
        "\r\n",
        "avec $g_j(H)$ et $g_j(b_i)$ représentant respectivement le score de $H$ et $b_i$ sur le critère $j$. Dans notre cas, ce score représente l’évaluation qualitative attribuée à $H$ et $b_i$. Par conséquent, la comparaison $g_j(H) \\geq g_j(b_i)$ signifie simplement que la\r\n",
        "valeur qualitative de $H$ est au moins aussi bonne que celle de $b_i$."
      ]
    },
    {
      "cell_type": "code",
      "metadata": {
        "id": "WPyMgMWiBFBy"
      },
      "source": [
        "def get_c_j(H : list, b_i : list, j : int, type_critere : str) :\r\n",
        "  \"\"\"retourne cj(H,b_i) et cj(b_i,H) selon la formule indiquée ci-dessus, tous des apparténant à {0, 1}\r\n",
        "    Parametres :\r\n",
        "      - H (list or array) : aliment (tableau de taille égale au nombre de critères, exemple [1, 10, 100, 2.1, 0] pur 5 critères)\r\n",
        "      - b_i (list or array) : profil (meme commentaire que pour H, exemple : [2, 1, 1, 100, 1, 1] )\r\n",
        "      - j (int) : indice du critère (entre 0 et le nombre de critères)\r\n",
        "      - type_critere (str) : chaine de caractère indiquant si le critère j est à maximiser (max) ou à minimiser (min)\r\n",
        "  \"\"\"\r\n",
        "  assert type_critere in [\"max\", \"min\"]\r\n",
        "  if type_critere == \"max\" :\r\n",
        "    c_j_H_b_i = 1 if H[j] >= b_i[j] else 0\r\n",
        "    c_j_b_i_H = 1 if b_i[j] >= H[j] else 0\r\n",
        "  if type_critere == \"min\" :\r\n",
        "    c_j_H_b_i = 1 if b_i[j] >= H[j] else 0\r\n",
        "    c_j_b_i_H = 1 if H[j] >= b_i[j] else 0\r\n",
        "  \r\n",
        "  return c_j_H_b_i, c_j_b_i_H"
      ],
      "execution_count": 7,
      "outputs": []
    },
    {
      "cell_type": "markdown",
      "metadata": {
        "id": "1AG0rrIdBR-F"
      },
      "source": [
        "### **Fonction de calcul des indices de concordances partiels**"
      ]
    },
    {
      "cell_type": "code",
      "metadata": {
        "id": "N5ptF-qdH-tN"
      },
      "source": [
        "def get_indices_de_concordance_partiels(criteres : list, aliments : dict, profils : dict) :\r\n",
        "  \"\"\"Retourne un dictionnaire conténant pour chaque aliment H et chaque critère b_i\r\n",
        "     les indices de concordance partiels c(H, bi) et c(bi, H), tous des réelle (float)\r\n",
        "\r\n",
        "     Parametres :\r\n",
        "        - criteres (list) : la liste des critères et de leur types\r\n",
        "              Exemple : [[\"Énergie\", 'min'], [\"Acide Gras sat.\", 'min'], [\"Sucre\", 'min'], [\"Sodium\", 'min'], [\"Protéine\", 'max'], [\"Fibre\", 'max']]\r\n",
        "        - aliments (dict) : dictionnaire conténant les aliments (la clé correspond au nom de l'aliment, et la valeur aux \r\n",
        "                            évaluation qualitative attribuée à l'aliment pour chaque critères)\r\n",
        "              Exemple : aliments = {\"aliment1\" : [1, 2, 3, 1, 0.1, 10], 'aliment2': [2, 0, 1, 5, 1, 10]}\r\n",
        "        - profils (dict) : dictionnaire conténant les profils (la clé correspond au nom du profil, et la valeur aux \r\n",
        "                            évaluation qualitative attribuée au profil pour chaque critères)\r\n",
        "              Exemple : profils = {\"b6\" : [100, 0, 0, 0, 100, 100], \"b5\" : [1550, 11, 0.8, 0.3, 10, 11], \r\n",
        "                                  \"b4\" : [1650, 14, 1, 0.4, 7, 8], \"b3\" : [1750, 17, 1.7, 0.5, 4, 5], \r\n",
        "                                  \"b2\" : [1850, 20, 4, 0.6, 3, 2.5], \"b1\" : [10000, 100, 100, 100, 0, 0]}\r\n",
        "  \"\"\"\r\n",
        "  c = {}\r\n",
        "  for j in range(len(criteres)) :\r\n",
        "    c[j] = {}\r\n",
        "    for H, b_i in itertools.product(*[aliments.keys(), profils.keys()]) :\r\n",
        "      c[j][H] = c[j].get(H, {})\r\n",
        "      c[j][b_i] = c[j].get(b_i, {})\r\n",
        "      c[j][H][b_i], c[j][b_i][H] = get_c_j(H = aliments[H], b_i = profils[b_i], j = j, type_critere = criteres[j][1])\r\n",
        "  return c"
      ],
      "execution_count": 9,
      "outputs": []
    },
    {
      "cell_type": "markdown",
      "metadata": {
        "id": "P1e_PfTrIDea"
      },
      "source": [
        "## **Étape 2 : Détermination des indices de concordance globaux**"
      ]
    },
    {
      "cell_type": "markdown",
      "metadata": {
        "id": "u_sHIUTKIRr9"
      },
      "source": [
        "L’indice de concordance global entre l’aliment $H$ et le profil $b_i$ est donné par la formule suivante :\r\n",
        "\r\n",
        "$\r\n",
        "C(H, b_i) = \\frac{\\sum_{j=1}^{n} k_jc_j(H,b_i)}{\\sum_{j=1}^{n} k_j} \r\n",
        "$\r\n",
        "et\r\n",
        "$\r\n",
        "C(b_i, H) = \\frac{\\sum_{j=1}^{n} k_jc_j(b_i, H)}{\\sum_{j=1}^{n} k_j} \r\n",
        "$\r\n",
        "\r\n",
        "où $k_j$ est le poids du critère $j$ et $n$ le nombre de critères"
      ]
    },
    {
      "cell_type": "code",
      "metadata": {
        "id": "I37087pOILPE"
      },
      "source": [
        "def get_indices_de_concordance_globaux(n : int, indices_de_concordance_partiels : dict, proids : list) :\r\n",
        "  \"\"\"Retourne un dictionnaire conténant pour chaque aliment H et chaque critère b_i\r\n",
        "     les indices de concordance globaux c(H, bi) et c(bi, H), tous des réelle (float)\r\n",
        "\r\n",
        "     Parametres :\r\n",
        "        - n (list) : nombre de critères\r\n",
        "        - indices_de_concordance_partiels (dict) : dictionnaires conténant les indices de concordance partiels calculé comme illustrer à l'étapes 1\r\n",
        "        - proids (liste) : listes de poids pour chaque critères (poids[j] = poids du critère j)\r\n",
        "              Exemple : poids = [1, 1, 1, 1, 2, 2]\r\n",
        "  \"\"\"\r\n",
        "  C = {}\r\n",
        "  sum_k = sum(proids)\r\n",
        "  for H, b_i in itertools.product(*[aliments.keys(), profils.keys()]) :\r\n",
        "    C[H] = C.get(H, {})\r\n",
        "    C[b_i] = C.get(b_i, {})\r\n",
        "    C[H][b_i] = sum([ proids[j] * indices_de_concordance_partiels[j][H][b_i] for j in range(n)]) / sum_k \r\n",
        "    C[b_i][H] = sum([ proids[j] * indices_de_concordance_partiels[j][b_i][H] for j in range(n)]) / sum_k \r\n",
        "  return C"
      ],
      "execution_count": 11,
      "outputs": []
    },
    {
      "cell_type": "markdown",
      "metadata": {
        "id": "hwfBN_4GKgKE"
      },
      "source": [
        "## **Étape 3 : Détermination de la relation de surclassement S**"
      ]
    },
    {
      "cell_type": "markdown",
      "metadata": {
        "id": "BCStmFs-K347"
      },
      "source": [
        "La relation de surclassement se définie à l’aide de l’indice de coupe $\\lambda$, appelé seuil de majorité (en général supérieur à 50%), qui représente le paramètre déterminant la situation de préférence entre l’aliment $H$ et le profil $b_i$. Ainsi pour l’aliment $H$ et un profil $b_i$ :\r\n",
        "- $H$ surclasse $b_i$ et on notera $H S b_i$ si et seulement si $C(H, b_i) \\geq \\lambda$.\r\n",
        "- $b_i$ surclasse $H$ et on notera $b_i S H$ si et seulement si $C(b_i, H) \\geq \\lambda$."
      ]
    },
    {
      "cell_type": "code",
      "metadata": {
        "id": "tVzH9EaOyjAk"
      },
      "source": [
        "def surclass(seuil_de_majorite : float, H : str, b_i : str, indices_de_concordance_globaux : dict):\n",
        "\t\"\"\"relation de surclassement : retourne H S b_i et b_i S H (qui sont tous de boolean : c'est à dire Vrai(True) ou Faux(False))\n",
        "     Parametres :\n",
        "        - seuil_de_majorite (float) : réel entre 0 et 1 (ou 0% à 100%) répresentant le seuil de majorité\n",
        "        - H (str) : nom de l'aliment\n",
        "        - b_i (str) : nom du profil\n",
        "        - indices_de_concordance_globaux (dict) : dictionnaires conténant les indices de concordance globaux calculer comme illustrer à l'étapes 2\n",
        "  \"\"\"\n",
        "\tH_S_b_i = indices_de_concordance_globaux[H][b_i] >= seuil_de_majorite\n",
        "\tb_i_S_H = indices_de_concordance_globaux[b_i][H] >= seuil_de_majorite\n",
        "\treturn H_S_b_i, b_i_S_H"
      ],
      "execution_count": 12,
      "outputs": []
    },
    {
      "cell_type": "markdown",
      "metadata": {
        "id": "5xb57H3_NNe5"
      },
      "source": [
        "## **Étape 4 : Procédures d’affectation**"
      ]
    },
    {
      "cell_type": "markdown",
      "metadata": {
        "id": "JYaPWdEXO4rl"
      },
      "source": [
        "Deux procédures d’affectation de l’aliment H sont possibles :\r\n",
        "\r\n",
        "- **Procédure pessimiste** : Pour chaque aliment $H$, faire décroitre les indices des profils de $r$ jusqu’au premier indice $k$ tel que $H S b_k$. L’aliment $H$ est alors affecté à la catégorie $C_k$.\r\n",
        "\r\n",
        "  Si $H S b_k$ n’est jamais réalisée, alors $H$ est affectée à la catégorie la moins bonne, $C_1$ **(Olivier Sobri et al., page 5/24)** [1]\r\n",
        "- **Procédure optimiste** : pour chaque aliment $H$, faire croitre les indices des profils de $1$ jusqu’au premier indice $k$ tel que $b_k S H$ et $non(H S b_k)$. L’aliment $H$ est alors affecté à la catégorie $C_{k−1}$.\r\n",
        "\r\n",
        "  Si $b_k S H$ et $non(H S b_k)$ n’est jamais réalisée, alors $H$ est affectée à la catégorie la meilleure, $C_r$ **(Olivier Sobri et al., page 5/24)** [1]\r\n",
        "\r\n",
        "[1] Intégration de la méthode d’aide à la déision ELECTRE TRI dans un système d’information géographique open source : Olivier Sobrie, Marc Pirlot, Florent Joerin"
      ]
    },
    {
      "cell_type": "markdown",
      "metadata": {
        "id": "fCg_KOLRNi4v"
      },
      "source": [
        "### **Procédure pessimiste**"
      ]
    },
    {
      "cell_type": "code",
      "metadata": {
        "id": "aX5w8KM4QIrs"
      },
      "source": [
        "def PessimisticmajoritySorting(categories : list, aliments : dict, profils : dict, indices_de_concordance_globaux : dict, seuil_de_majorite : float) :\r\n",
        "  \"\"\" Classe chaque aliment dans une catégorie selon la procédure d'affectation pessimiste\r\n",
        "      Parametres : \r\n",
        "          - categories (list) : liste des categories \r\n",
        "              Exemple : categories= [\"A\", \"B\", \"C\", \"D\", \"E\"]\r\n",
        "          - aliments (dict) : dictionnaire conténant les aliments (la clé correspond au nom de l'aliment, et la valeur aux \r\n",
        "                              évaluation qualitative attribuée à l'aliment pour chaque critères)\r\n",
        "                      Exemple : aliments = {\"aliment1\" : [1, 2, 3, 1, 0.1, 10], 'aliment2': [2, 0, 1, 5, 1, 10]}\r\n",
        "          - proids (liste) : listes de poids pour chaque critères (poids[j] = poids du critère j)\r\n",
        "                      Exemple : poids = [1, 1, 1, 1, 2, 2]\r\n",
        "          - indices_de_concordance_globaux (dict) : dictionnaires conténant les indices de concordance globaux calculer comme illustrer à l'étapes 2\r\n",
        "          - seuil_de_majorite (float) : réel entre 0 et 1 (ou 0% à 100%) répresentant le seuil de majorité\r\n",
        "  \"\"\"\r\n",
        "  result = {}\r\n",
        "  r = len(categories)\r\n",
        "  b = list(profils.keys())\r\n",
        "  for H in aliments.keys() :\r\n",
        "    for k in range(r-1, -1, -1) : \r\n",
        "      H_S_b_k, _ = surclass(seuil_de_majorite, H, b[k], indices_de_concordance_globaux)\r\n",
        "      if H_S_b_k :\r\n",
        "        result[H] = categories[k]\r\n",
        "        break\r\n",
        "    result[H] = result.get(H, categories[0]) \r\n",
        "  return result"
      ],
      "execution_count": 16,
      "outputs": []
    },
    {
      "cell_type": "markdown",
      "metadata": {
        "id": "W9_AFTP8QFzV"
      },
      "source": [
        "### **Procédure optimiste**"
      ]
    },
    {
      "cell_type": "code",
      "metadata": {
        "id": "KiX-Q2ZuNC2x"
      },
      "source": [
        "def OptimisticmajoritySorting(categories : list, aliments : dict, profils : dict, indices_de_concordance_globaux : dict, seuil_de_majorite : float) : \r\n",
        "  \"\"\" Classe chaque aliment dans une catégorie selon la procédure d'affectation optimiste\r\n",
        "      Parametres : \r\n",
        "          - categories (list) : liste des categories \r\n",
        "              Exemple : categories= [\"A\", \"B\", \"C\", \"D\", \"E\"]\r\n",
        "          - aliments (dict) : dictionnaire conténant les aliments (la clé correspond au nom de l'aliment, et la valeur aux \r\n",
        "                              évaluation qualitative attribuée à l'aliment pour chaque critères)\r\n",
        "                      Exemple : aliments = {\"aliment1\" : [1, 2, 3, 1, 0.1, 10], 'aliment2': [2, 0, 1, 5, 1, 10]}\r\n",
        "          - proids (liste) : listes de poids pour chaque critères (poids[j] = poids du critère j)\r\n",
        "                      Exemple : poids = [1, 1, 1, 1, 2, 2]\r\n",
        "          - indices_de_concordance_globaux (dict) : dictionnaires conténant les indices de concordance globaux calculer comme illustrer à l'étapes 2\r\n",
        "          - seuil_de_majorite (float) : réel entre 0 et 1 (ou 0% à 100%) répresentant le seuil de majorité\r\n",
        "  \"\"\"\r\n",
        "  result = {}\r\n",
        "  r = len(categories)\r\n",
        "  b = list(profils.keys())\r\n",
        "  for H in aliments.keys() :\r\n",
        "    for k in range(1, r+1) :\r\n",
        "      H_S_b_k, b_k_S_H = surclass(seuil_de_majorite, H, b[k], indices_de_concordance_globaux)\r\n",
        "      #if b_k_S_H :\r\n",
        "      if b_k_S_H and not H_S_b_k :\r\n",
        "        result[H] = categories[k-1]\r\n",
        "        break\r\n",
        "    result[H] = result.get(H, categories[r-1])\r\n",
        "  return result"
      ],
      "execution_count": 26,
      "outputs": []
    },
    {
      "cell_type": "markdown",
      "metadata": {
        "id": "NE2b-PRjRcsa"
      },
      "source": [
        "## **Fonction utiles pour la lectures et l'écriture dans les fichiers excels**"
      ]
    },
    {
      "cell_type": "code",
      "metadata": {
        "id": "rUVc_u-yNHHS"
      },
      "source": [
        "def get_profils(file_path : str, sheet_name : str = None):\r\n",
        "    \"\"\"Prend un fichier excel conténant les profils ou les aliments et retourne le résultats au format :\r\n",
        "      - aliments = {\"aliment_1\" : [1, 2, 3, 1, 0.1, 10], ..., 'aliment_n': [2, 0, 1, 5, 1, 10]} par exemple, s'il s'agit des aliments\r\n",
        "      - profils = {\"b6\" : [100, 0, 0, 0, 100, 100], ..., \"b1\" : [10000, 100, 100, 100, 0, 0]} par exemple, s'il s'agit des profils\r\n",
        "\r\n",
        "      Parametres :\r\n",
        "        - file_path (str) : chemin du fichier excel\r\n",
        "        - sheet_name (str) nom de la feuille excel cible (si aucune feuille n'est spécifiée, la prémiere feuille est considérée)\r\n",
        "    \"\"\"\r\n",
        "    if sheet_name is None :\r\n",
        "        content = pd.read_excel(file_path, index_col=0)\r\n",
        "    else :\r\n",
        "        content = pd.read_excel(file_path, index_col=0, sheet_name=sheet_name)\r\n",
        "    indexs = content.index\r\n",
        "    profils = {key : [] for key in indexs}\r\n",
        "    for critere in content.keys() :\r\n",
        "        C = content[critere]\r\n",
        "        for key in indexs :\r\n",
        "            profils[key].append(C[key])\r\n",
        "    return profils\r\n",
        "\r\n",
        "def get_criteres_poids(file_path : str, sheet_name : str = None):\r\n",
        "    \"\"\"Prend un fichier excel conténant les criteres, leur poids et leur type (max ou min) et retourne le résultats au format :\r\n",
        "      - criteres = [[\"Énergie\", 'min'], [\"Acide Gras sat.\", 'min'], [\"Sucre\", 'min'], [\"Sodium\", 'min'], [\"Protéine\", 'max'], [\"Fibre\", 'max']] par exemple\r\n",
        "      - poids = [1, 1, 1, 1, 2, 2] par exemple\r\n",
        "\r\n",
        "      Parametres :\r\n",
        "        - file_path (str) : chemin du fichier excel\r\n",
        "        - sheet_name (str) nom de la feuille excel cible (si aucune feuille n'est spécifiée, la prémiere feuille est considérée)\r\n",
        "    \"\"\"\r\n",
        "    if sheet_name is None :\r\n",
        "        content = pd.read_excel(file_path, index_col=0)\r\n",
        "    else :\r\n",
        "        content = pd.read_excel(file_path, index_col=0, sheet_name=sheet_name)\r\n",
        "    #indexs = content.index\r\n",
        "    poids, criteres = [], []\r\n",
        "    for critere in content.keys() :\r\n",
        "        C = content[critere]\r\n",
        "        poids.append(C[\"poids\"])\r\n",
        "        criteres.append([critere, C[\"type_critere\"]])\r\n",
        "    return criteres, poids\r\n",
        "\r\n",
        "def to_excel(classement, output_file : str, sheet_name : str = None):\r\n",
        "    \"\"\"Fonction écrivant les résultats fournis par les procédures d'affectation dans les fichiers excel\r\n",
        "\r\n",
        "      Parametres :\r\n",
        "        - classement (dict) : dictionnaire conténant pour chaque aliment (clé = nom de l'aliment) sa catégorie (valeur)\r\n",
        "        - output_file (str) : chemin du fichier excel dans lequel le résultat sera stocké\r\n",
        "        - sheet_name (str) nom de la feuille excel cible (si aucune feuille n'est spécifié, la prémiere feuille est considérée)\r\n",
        "    \"\"\"\r\n",
        "    index = classement.keys()\r\n",
        "    columns = [\"categories\"]\r\n",
        "    df = list(classement.values())\r\n",
        "    df = [[a] for a in df]\r\n",
        "    df = pd.DataFrame(df, index=index, columns = columns)\r\n",
        "    if sheet_name is None :\r\n",
        "        df.to_excel(output_file)\r\n",
        "    else :\r\n",
        "        df.to_excel(output_file, sheet_name = sheet_name)"
      ],
      "execution_count": 60,
      "outputs": []
    },
    {
      "cell_type": "markdown",
      "metadata": {
        "id": "tQEe5ZVw0Lml"
      },
      "source": [
        "# **Test des fonctions par simultation sur des données fictives**"
      ]
    },
    {
      "cell_type": "code",
      "metadata": {
        "colab": {
          "base_uri": "https://localhost:8080/"
        },
        "id": "BhCCjHQjVdX1",
        "outputId": "a32070d9-5622-4486-8540-82bfa62cb824"
      },
      "source": [
        "get_c_j(H = [2, 1, 1, 100, 1, 1], b_i = [2, 1, 1, 100, 1, 1], j = 5, type_critere = \"max\")"
      ],
      "execution_count": 28,
      "outputs": [
        {
          "output_type": "execute_result",
          "data": {
            "text/plain": [
              "(1, 1)"
            ]
          },
          "metadata": {
            "tags": []
          },
          "execution_count": 28
        }
      ]
    },
    {
      "cell_type": "code",
      "metadata": {
        "id": "1plWv9QLtVah"
      },
      "source": [
        "categories = [\"A\", \"B\", \"C\", \"D\", \"E\"]\n",
        "criteres = [[\"Énergie\", 'min'], [\"Acide Gras sat.\", 'min'], [\"Sucre\", 'min'], [\"Sodium\", 'min'], [\"Protéine\", 'max'], [\"Fibre\", 'max']]\n",
        "poids = [1, 1, 1, 1, 2, 2]\n",
        "profils = {\"b6\" : [100, 0, 0, 0, 100, 100], \"b5\" : [1550, 11, 0.8, 0.3, 10, 11], \"b4\" : [1650, 14, 1, 0.4, 7, 8], \"b3\" : [1750, 17, 1.7, 0.5, 4, 5], \"b2\" : [1850, 20, 4, 0.6, 3, 2.5], \"b1\" : [10000, 100, 100, 100, 0, 0]}\n",
        "aliments = {\"aliment_1\" : [1.5, 14, 3, 2, 0, 1], 'aliment_2': [0, 2, 1, 1, 10.11, 4]}\n",
        "seuil_de_majorite = 0.5"
      ],
      "execution_count": 38,
      "outputs": []
    },
    {
      "cell_type": "markdown",
      "metadata": {
        "id": "Za2Kqm4H0nhM"
      },
      "source": [
        "## **Étape 1 : Détermination des indices de concordance partiels**"
      ]
    },
    {
      "cell_type": "code",
      "metadata": {
        "colab": {
          "base_uri": "https://localhost:8080/"
        },
        "id": "2oXa7F-LtmAI",
        "outputId": "7fe3a5cd-f300-44be-c3c6-7b720ff19eea"
      },
      "source": [
        "c = get_indices_de_concordance_partiels(criteres = criteres, aliments = aliments, profils = profils)\n",
        "c"
      ],
      "execution_count": 39,
      "outputs": [
        {
          "output_type": "execute_result",
          "data": {
            "text/plain": [
              "{0: {'aliment_1': {'b1': 1, 'b2': 1, 'b3': 1, 'b4': 1, 'b5': 1, 'b6': 1},\n",
              "  'aliment_2': {'b1': 1, 'b2': 1, 'b3': 1, 'b4': 1, 'b5': 1, 'b6': 1},\n",
              "  'b1': {'aliment_1': 0, 'aliment_2': 0},\n",
              "  'b2': {'aliment_1': 0, 'aliment_2': 0},\n",
              "  'b3': {'aliment_1': 0, 'aliment_2': 0},\n",
              "  'b4': {'aliment_1': 0, 'aliment_2': 0},\n",
              "  'b5': {'aliment_1': 0, 'aliment_2': 0},\n",
              "  'b6': {'aliment_1': 0, 'aliment_2': 0}},\n",
              " 1: {'aliment_1': {'b1': 1, 'b2': 1, 'b3': 1, 'b4': 1, 'b5': 0, 'b6': 0},\n",
              "  'aliment_2': {'b1': 1, 'b2': 1, 'b3': 1, 'b4': 1, 'b5': 1, 'b6': 0},\n",
              "  'b1': {'aliment_1': 0, 'aliment_2': 0},\n",
              "  'b2': {'aliment_1': 0, 'aliment_2': 0},\n",
              "  'b3': {'aliment_1': 0, 'aliment_2': 0},\n",
              "  'b4': {'aliment_1': 1, 'aliment_2': 0},\n",
              "  'b5': {'aliment_1': 1, 'aliment_2': 0},\n",
              "  'b6': {'aliment_1': 1, 'aliment_2': 1}},\n",
              " 2: {'aliment_1': {'b1': 1, 'b2': 1, 'b3': 0, 'b4': 0, 'b5': 0, 'b6': 0},\n",
              "  'aliment_2': {'b1': 1, 'b2': 1, 'b3': 1, 'b4': 1, 'b5': 0, 'b6': 0},\n",
              "  'b1': {'aliment_1': 0, 'aliment_2': 0},\n",
              "  'b2': {'aliment_1': 0, 'aliment_2': 0},\n",
              "  'b3': {'aliment_1': 1, 'aliment_2': 0},\n",
              "  'b4': {'aliment_1': 1, 'aliment_2': 1},\n",
              "  'b5': {'aliment_1': 1, 'aliment_2': 1},\n",
              "  'b6': {'aliment_1': 1, 'aliment_2': 1}},\n",
              " 3: {'aliment_1': {'b1': 1, 'b2': 0, 'b3': 0, 'b4': 0, 'b5': 0, 'b6': 0},\n",
              "  'aliment_2': {'b1': 1, 'b2': 0, 'b3': 0, 'b4': 0, 'b5': 0, 'b6': 0},\n",
              "  'b1': {'aliment_1': 0, 'aliment_2': 0},\n",
              "  'b2': {'aliment_1': 1, 'aliment_2': 1},\n",
              "  'b3': {'aliment_1': 1, 'aliment_2': 1},\n",
              "  'b4': {'aliment_1': 1, 'aliment_2': 1},\n",
              "  'b5': {'aliment_1': 1, 'aliment_2': 1},\n",
              "  'b6': {'aliment_1': 1, 'aliment_2': 1}},\n",
              " 4: {'aliment_1': {'b1': 1, 'b2': 0, 'b3': 0, 'b4': 0, 'b5': 0, 'b6': 0},\n",
              "  'aliment_2': {'b1': 1, 'b2': 1, 'b3': 1, 'b4': 1, 'b5': 1, 'b6': 0},\n",
              "  'b1': {'aliment_1': 1, 'aliment_2': 0},\n",
              "  'b2': {'aliment_1': 1, 'aliment_2': 0},\n",
              "  'b3': {'aliment_1': 1, 'aliment_2': 0},\n",
              "  'b4': {'aliment_1': 1, 'aliment_2': 0},\n",
              "  'b5': {'aliment_1': 1, 'aliment_2': 0},\n",
              "  'b6': {'aliment_1': 1, 'aliment_2': 1}},\n",
              " 5: {'aliment_1': {'b1': 1, 'b2': 0, 'b3': 0, 'b4': 0, 'b5': 0, 'b6': 0},\n",
              "  'aliment_2': {'b1': 1, 'b2': 1, 'b3': 0, 'b4': 0, 'b5': 0, 'b6': 0},\n",
              "  'b1': {'aliment_1': 0, 'aliment_2': 0},\n",
              "  'b2': {'aliment_1': 1, 'aliment_2': 0},\n",
              "  'b3': {'aliment_1': 1, 'aliment_2': 1},\n",
              "  'b4': {'aliment_1': 1, 'aliment_2': 1},\n",
              "  'b5': {'aliment_1': 1, 'aliment_2': 1},\n",
              "  'b6': {'aliment_1': 1, 'aliment_2': 1}}}"
            ]
          },
          "metadata": {
            "tags": []
          },
          "execution_count": 39
        }
      ]
    },
    {
      "cell_type": "markdown",
      "metadata": {
        "id": "BKkP7lak0vHS"
      },
      "source": [
        "## **Étape 2 : Détermination des indices de concordance globaux**"
      ]
    },
    {
      "cell_type": "code",
      "metadata": {
        "colab": {
          "base_uri": "https://localhost:8080/"
        },
        "id": "D61KTCLIuJkS",
        "outputId": "fba13ad1-6f35-4b30-ea03-e8ea60c9e6aa"
      },
      "source": [
        "C =  get_indices_de_concordance_globaux(n = len(criteres), indices_de_concordance_partiels = c, proids = poids)\n",
        "C"
      ],
      "execution_count": 40,
      "outputs": [
        {
          "output_type": "execute_result",
          "data": {
            "text/plain": [
              "{'aliment_1': {'b1': 1.0,\n",
              "  'b2': 0.375,\n",
              "  'b3': 0.25,\n",
              "  'b4': 0.25,\n",
              "  'b5': 0.125,\n",
              "  'b6': 0.125},\n",
              " 'aliment_2': {'b1': 1.0,\n",
              "  'b2': 0.875,\n",
              "  'b3': 0.625,\n",
              "  'b4': 0.625,\n",
              "  'b5': 0.5,\n",
              "  'b6': 0.125},\n",
              " 'b1': {'aliment_1': 0.25, 'aliment_2': 0.0},\n",
              " 'b2': {'aliment_1': 0.625, 'aliment_2': 0.125},\n",
              " 'b3': {'aliment_1': 0.75, 'aliment_2': 0.375},\n",
              " 'b4': {'aliment_1': 0.875, 'aliment_2': 0.5},\n",
              " 'b5': {'aliment_1': 0.875, 'aliment_2': 0.5},\n",
              " 'b6': {'aliment_1': 0.875, 'aliment_2': 0.875}}"
            ]
          },
          "metadata": {
            "tags": []
          },
          "execution_count": 40
        }
      ]
    },
    {
      "cell_type": "markdown",
      "metadata": {
        "id": "7aV8JNLA02N0"
      },
      "source": [
        "## **Étape 3 & 4 : Relation de surclassement & Procédures d’affectation**"
      ]
    },
    {
      "cell_type": "markdown",
      "metadata": {
        "id": "vBWpgqI41JHW"
      },
      "source": [
        "### **1) pessimiste**"
      ]
    },
    {
      "cell_type": "code",
      "metadata": {
        "colab": {
          "base_uri": "https://localhost:8080/"
        },
        "id": "wR1MIVYZuxpk",
        "outputId": "a34f1ac2-f5dc-4e79-bb4a-9948901f53e8"
      },
      "source": [
        "categotiries_pessimist = PessimisticmajoritySorting(categories = categories, aliments = aliments, profils = profils, indices_de_concordance_globaux = C, seuil_de_majorite = seuil_de_majorite) \n",
        "categotiries_pessimist"
      ],
      "execution_count": 41,
      "outputs": [
        {
          "output_type": "execute_result",
          "data": {
            "text/plain": [
              "{'aliment_1': 'A', 'aliment_2': 'E'}"
            ]
          },
          "metadata": {
            "tags": []
          },
          "execution_count": 41
        }
      ]
    },
    {
      "cell_type": "markdown",
      "metadata": {
        "id": "S1GneilZ1Rpg"
      },
      "source": [
        "### **1) optimiste**"
      ]
    },
    {
      "cell_type": "code",
      "metadata": {
        "colab": {
          "base_uri": "https://localhost:8080/"
        },
        "id": "YwnUDEVzu97U",
        "outputId": "00127b99-3c0e-4485-8a81-6c468393a6e7"
      },
      "source": [
        "categotiries_optimist = OptimisticmajoritySorting(categories = categories, aliments = aliments, profils = profils, indices_de_concordance_globaux = C, seuil_de_majorite = seuil_de_majorite)\n",
        "categotiries_optimist"
      ],
      "execution_count": 42,
      "outputs": [
        {
          "output_type": "execute_result",
          "data": {
            "text/plain": [
              "{'aliment_1': 'A', 'aliment_2': 'E'}"
            ]
          },
          "metadata": {
            "tags": []
          },
          "execution_count": 42
        }
      ]
    },
    {
      "cell_type": "markdown",
      "metadata": {
        "id": "Fs2SMimu0apo"
      },
      "source": [
        "# **Test sur des données venants des fichiers**\r\n",
        "\r\n",
        "**Utiliser répétitivement et dans l'ordre ces cellules pour générer progressivement les résultats.** \r\n",
        "\r\n",
        "C'est-à-dire : \r\n",
        "* specifier les chemins de fichiers\r\n",
        "* exécuter les cellules jusqu'à obtention et ecritures des résultats dans le fichier de sortie\r\n",
        "* Recommencer pour un (d') autre(s) fichier(s) "
      ]
    },
    {
      "cell_type": "markdown",
      "metadata": {
        "id": "tTOeZFh4SVyE"
      },
      "source": [
        "\r\n",
        "\r\n",
        "> `NB` : Spécifier les chemins vers vos fichiers et s'assuser que les fichiers existent et respectent le format réquis par les fonctions de lecture (des templates sont présent dans ce [dossier google drive](https://https://drive.google.com/drive/folders/1rvEylqVGC4AGGeJzFpxWlpNaI3H_uUXi?usp=sharing)).\r\n",
        "\r\n",
        "> Si le fichier est mal encodé (avec les symboles bizarres au niveau des noms des aliments par exemple), la lecture va générer une erreur. \r\n",
        "\r\n",
        "> Dans mon cas j'ai upload les fichiers sous google colab (Voir l'icone en haut à gauche, portant une flèche montante)\r\n",
        "\r\n",
        "\r\n",
        "\r\n",
        "> Apres exécutions j'ai télécharger les fichiers ```output_optimiste.xlsx``` et ```output_pesimite.xlsx```\r\n",
        "\r\n",
        "\r\n",
        "\r\n",
        "\r\n",
        "\r\n"
      ]
    },
    {
      "cell_type": "code",
      "metadata": {
        "id": "N445BjEtaAW6"
      },
      "source": [
        "profils_file = \"profils.xlsx\"\n",
        "criteres_file = \"criteres.xlsx\"\n",
        "aliments_file = \"aliments.xlsx\" # \"BD3_brut.xlsx\" pour la vrai BD\n",
        "output_file_pesimite =  \"output_pesimite.xlsx\"\n",
        "output_file_optimiste =  \"output_optimiste.xlsx\"\n",
        "seuil_de_majorite = 0.5"
      ],
      "execution_count": 95,
      "outputs": []
    },
    {
      "cell_type": "code",
      "metadata": {
        "colab": {
          "base_uri": "https://localhost:8080/"
        },
        "id": "9x9yQLrXarQV",
        "outputId": "5a8fd2d5-9566-4d09-ee13-8d8bd4b637f2"
      },
      "source": [
        "criteres, poids = get_criteres_poids(file_path = criteres_file)\n",
        "criteres, poids"
      ],
      "execution_count": 96,
      "outputs": [
        {
          "output_type": "execute_result",
          "data": {
            "text/plain": [
              "([['energy100g', 'min'],\n",
              "  ['saturatedfat100g', 'min'],\n",
              "  ['sugars100g', 'min'],\n",
              "  ['fiber100g', 'min'],\n",
              "  ['proteins100g', 'max'],\n",
              "  ['sodium100g', 'max']],\n",
              " [1, 1, 1, 1, 2, 2])"
            ]
          },
          "metadata": {
            "tags": []
          },
          "execution_count": 96
        }
      ]
    },
    {
      "cell_type": "code",
      "metadata": {
        "colab": {
          "base_uri": "https://localhost:8080/"
        },
        "id": "OpNOUkAwa0hD",
        "outputId": "d8fa7942-fa29-4d2f-804c-79125012bb6c"
      },
      "source": [
        "profils = get_profils(file_path = profils_file)\n",
        "profils"
      ],
      "execution_count": 97,
      "outputs": [
        {
          "output_type": "execute_result",
          "data": {
            "text/plain": [
              "{'b1': [10000, 100, 100.0, 0.0, 0, 100.0],\n",
              " 'b2': [1850, 20, 4.0, 2.5, 3, 0.6],\n",
              " 'b3': [1750, 17, 1.7, 5.0, 4, 0.5],\n",
              " 'b4': [1650, 14, 1.0, 8.0, 7, 0.4],\n",
              " 'b5': [1550, 11, 0.8, 11.0, 10, 0.3],\n",
              " 'b6': [100, 0, 0.0, 100.0, 100, 0.0]}"
            ]
          },
          "metadata": {
            "tags": []
          },
          "execution_count": 97
        }
      ]
    },
    {
      "cell_type": "code",
      "metadata": {
        "colab": {
          "base_uri": "https://localhost:8080/"
        },
        "id": "Dz04N1nxa6X-",
        "outputId": "b25e4a4d-d6b0-4f33-e223-1efe75e509f9"
      },
      "source": [
        "aliments = get_profils(file_path = aliments_file)\n",
        "aliments"
      ],
      "execution_count": 98,
      "outputs": [
        {
          "output_type": "execute_result",
          "data": {
            "text/plain": [
              "{'bongo': [0, 100, 0, 0, 0, 0],\n",
              " 'dumba': [100, 0, 0, 0, 0, 0],\n",
              " 'eru': [0, 0, 0, 0, 0, 100],\n",
              " 'koki': [0, 0, 100, 0, 0, 0],\n",
              " 'okok': [0, 0, 0, 0, 100, 0],\n",
              " 'taro': [0, 0, 0, 100, 0, 0]}"
            ]
          },
          "metadata": {
            "tags": []
          },
          "execution_count": 98
        }
      ]
    },
    {
      "cell_type": "markdown",
      "metadata": {
        "id": "bG2X6h87hbt2"
      },
      "source": [
        "### Optionnel : on ordonne les profils et les catégories\r\n",
        "* se rassurer qu'on part de $b_6$ à $b_1$ pour les profils\r\n",
        "* se rassurer qu'on part de $A$ à $E$ pour les catégories"
      ]
    },
    {
      "cell_type": "code",
      "metadata": {
        "id": "_L7wv1ZlZ35G"
      },
      "source": [
        "profils = {k : v for k, v in sorted(profils.items(), key=lambda b : b[0], reverse = True)} # se rassurer qu'on part de b6 à b1\n",
        "categories = sorted(categories, key = lambda c : c, reverse = False) # se rassurer qu'on part de A à E"
      ],
      "execution_count": 99,
      "outputs": []
    },
    {
      "cell_type": "markdown",
      "metadata": {
        "id": "uYqwLdEgbInC"
      },
      "source": [
        "## **Étape 1 : Détermination des indices de concordance partiels**"
      ]
    },
    {
      "cell_type": "code",
      "metadata": {
        "colab": {
          "base_uri": "https://localhost:8080/"
        },
        "id": "BL4gAP4BbGki",
        "outputId": "219c896d-ee09-4688-8d78-420195a6c949"
      },
      "source": [
        "c = get_indices_de_concordance_partiels(criteres = criteres, aliments = aliments, profils = profils)\n",
        "c"
      ],
      "execution_count": 100,
      "outputs": [
        {
          "output_type": "execute_result",
          "data": {
            "text/plain": [
              "{0: {'b1': {'bongo': 0, 'dumba': 0, 'eru': 0, 'koki': 0, 'okok': 0, 'taro': 0},\n",
              "  'b2': {'bongo': 0, 'dumba': 0, 'eru': 0, 'koki': 0, 'okok': 0, 'taro': 0},\n",
              "  'b3': {'bongo': 0, 'dumba': 0, 'eru': 0, 'koki': 0, 'okok': 0, 'taro': 0},\n",
              "  'b4': {'bongo': 0, 'dumba': 0, 'eru': 0, 'koki': 0, 'okok': 0, 'taro': 0},\n",
              "  'b5': {'bongo': 0, 'dumba': 0, 'eru': 0, 'koki': 0, 'okok': 0, 'taro': 0},\n",
              "  'b6': {'bongo': 0, 'dumba': 1, 'eru': 0, 'koki': 0, 'okok': 0, 'taro': 0},\n",
              "  'bongo': {'b1': 1, 'b2': 1, 'b3': 1, 'b4': 1, 'b5': 1, 'b6': 1},\n",
              "  'dumba': {'b1': 1, 'b2': 1, 'b3': 1, 'b4': 1, 'b5': 1, 'b6': 1},\n",
              "  'eru': {'b1': 1, 'b2': 1, 'b3': 1, 'b4': 1, 'b5': 1, 'b6': 1},\n",
              "  'koki': {'b1': 1, 'b2': 1, 'b3': 1, 'b4': 1, 'b5': 1, 'b6': 1},\n",
              "  'okok': {'b1': 1, 'b2': 1, 'b3': 1, 'b4': 1, 'b5': 1, 'b6': 1},\n",
              "  'taro': {'b1': 1, 'b2': 1, 'b3': 1, 'b4': 1, 'b5': 1, 'b6': 1}},\n",
              " 1: {'b1': {'bongo': 1, 'dumba': 0, 'eru': 0, 'koki': 0, 'okok': 0, 'taro': 0},\n",
              "  'b2': {'bongo': 1, 'dumba': 0, 'eru': 0, 'koki': 0, 'okok': 0, 'taro': 0},\n",
              "  'b3': {'bongo': 1, 'dumba': 0, 'eru': 0, 'koki': 0, 'okok': 0, 'taro': 0},\n",
              "  'b4': {'bongo': 1, 'dumba': 0, 'eru': 0, 'koki': 0, 'okok': 0, 'taro': 0},\n",
              "  'b5': {'bongo': 1, 'dumba': 0, 'eru': 0, 'koki': 0, 'okok': 0, 'taro': 0},\n",
              "  'b6': {'bongo': 1, 'dumba': 1, 'eru': 1, 'koki': 1, 'okok': 1, 'taro': 1},\n",
              "  'bongo': {'b1': 1, 'b2': 0, 'b3': 0, 'b4': 0, 'b5': 0, 'b6': 0},\n",
              "  'dumba': {'b1': 1, 'b2': 1, 'b3': 1, 'b4': 1, 'b5': 1, 'b6': 1},\n",
              "  'eru': {'b1': 1, 'b2': 1, 'b3': 1, 'b4': 1, 'b5': 1, 'b6': 1},\n",
              "  'koki': {'b1': 1, 'b2': 1, 'b3': 1, 'b4': 1, 'b5': 1, 'b6': 1},\n",
              "  'okok': {'b1': 1, 'b2': 1, 'b3': 1, 'b4': 1, 'b5': 1, 'b6': 1},\n",
              "  'taro': {'b1': 1, 'b2': 1, 'b3': 1, 'b4': 1, 'b5': 1, 'b6': 1}},\n",
              " 2: {'b1': {'bongo': 0, 'dumba': 0, 'eru': 0, 'koki': 1, 'okok': 0, 'taro': 0},\n",
              "  'b2': {'bongo': 0, 'dumba': 0, 'eru': 0, 'koki': 1, 'okok': 0, 'taro': 0},\n",
              "  'b3': {'bongo': 0, 'dumba': 0, 'eru': 0, 'koki': 1, 'okok': 0, 'taro': 0},\n",
              "  'b4': {'bongo': 0, 'dumba': 0, 'eru': 0, 'koki': 1, 'okok': 0, 'taro': 0},\n",
              "  'b5': {'bongo': 0, 'dumba': 0, 'eru': 0, 'koki': 1, 'okok': 0, 'taro': 0},\n",
              "  'b6': {'bongo': 1, 'dumba': 1, 'eru': 1, 'koki': 1, 'okok': 1, 'taro': 1},\n",
              "  'bongo': {'b1': 1, 'b2': 1, 'b3': 1, 'b4': 1, 'b5': 1, 'b6': 1},\n",
              "  'dumba': {'b1': 1, 'b2': 1, 'b3': 1, 'b4': 1, 'b5': 1, 'b6': 1},\n",
              "  'eru': {'b1': 1, 'b2': 1, 'b3': 1, 'b4': 1, 'b5': 1, 'b6': 1},\n",
              "  'koki': {'b1': 1, 'b2': 0, 'b3': 0, 'b4': 0, 'b5': 0, 'b6': 0},\n",
              "  'okok': {'b1': 1, 'b2': 1, 'b3': 1, 'b4': 1, 'b5': 1, 'b6': 1},\n",
              "  'taro': {'b1': 1, 'b2': 1, 'b3': 1, 'b4': 1, 'b5': 1, 'b6': 1}},\n",
              " 3: {'b1': {'bongo': 1, 'dumba': 1, 'eru': 1, 'koki': 1, 'okok': 1, 'taro': 1},\n",
              "  'b2': {'bongo': 0, 'dumba': 0, 'eru': 0, 'koki': 0, 'okok': 0, 'taro': 1},\n",
              "  'b3': {'bongo': 0, 'dumba': 0, 'eru': 0, 'koki': 0, 'okok': 0, 'taro': 1},\n",
              "  'b4': {'bongo': 0, 'dumba': 0, 'eru': 0, 'koki': 0, 'okok': 0, 'taro': 1},\n",
              "  'b5': {'bongo': 0, 'dumba': 0, 'eru': 0, 'koki': 0, 'okok': 0, 'taro': 1},\n",
              "  'b6': {'bongo': 0, 'dumba': 0, 'eru': 0, 'koki': 0, 'okok': 0, 'taro': 1},\n",
              "  'bongo': {'b1': 1, 'b2': 1, 'b3': 1, 'b4': 1, 'b5': 1, 'b6': 1},\n",
              "  'dumba': {'b1': 1, 'b2': 1, 'b3': 1, 'b4': 1, 'b5': 1, 'b6': 1},\n",
              "  'eru': {'b1': 1, 'b2': 1, 'b3': 1, 'b4': 1, 'b5': 1, 'b6': 1},\n",
              "  'koki': {'b1': 1, 'b2': 1, 'b3': 1, 'b4': 1, 'b5': 1, 'b6': 1},\n",
              "  'okok': {'b1': 1, 'b2': 1, 'b3': 1, 'b4': 1, 'b5': 1, 'b6': 1},\n",
              "  'taro': {'b1': 0, 'b2': 0, 'b3': 0, 'b4': 0, 'b5': 0, 'b6': 1}},\n",
              " 4: {'b1': {'bongo': 1, 'dumba': 1, 'eru': 1, 'koki': 1, 'okok': 0, 'taro': 1},\n",
              "  'b2': {'bongo': 1, 'dumba': 1, 'eru': 1, 'koki': 1, 'okok': 0, 'taro': 1},\n",
              "  'b3': {'bongo': 1, 'dumba': 1, 'eru': 1, 'koki': 1, 'okok': 0, 'taro': 1},\n",
              "  'b4': {'bongo': 1, 'dumba': 1, 'eru': 1, 'koki': 1, 'okok': 0, 'taro': 1},\n",
              "  'b5': {'bongo': 1, 'dumba': 1, 'eru': 1, 'koki': 1, 'okok': 0, 'taro': 1},\n",
              "  'b6': {'bongo': 1, 'dumba': 1, 'eru': 1, 'koki': 1, 'okok': 1, 'taro': 1},\n",
              "  'bongo': {'b1': 1, 'b2': 0, 'b3': 0, 'b4': 0, 'b5': 0, 'b6': 0},\n",
              "  'dumba': {'b1': 1, 'b2': 0, 'b3': 0, 'b4': 0, 'b5': 0, 'b6': 0},\n",
              "  'eru': {'b1': 1, 'b2': 0, 'b3': 0, 'b4': 0, 'b5': 0, 'b6': 0},\n",
              "  'koki': {'b1': 1, 'b2': 0, 'b3': 0, 'b4': 0, 'b5': 0, 'b6': 0},\n",
              "  'okok': {'b1': 1, 'b2': 1, 'b3': 1, 'b4': 1, 'b5': 1, 'b6': 1},\n",
              "  'taro': {'b1': 1, 'b2': 0, 'b3': 0, 'b4': 0, 'b5': 0, 'b6': 0}},\n",
              " 5: {'b1': {'bongo': 1, 'dumba': 1, 'eru': 1, 'koki': 1, 'okok': 1, 'taro': 1},\n",
              "  'b2': {'bongo': 1, 'dumba': 1, 'eru': 0, 'koki': 1, 'okok': 1, 'taro': 1},\n",
              "  'b3': {'bongo': 1, 'dumba': 1, 'eru': 0, 'koki': 1, 'okok': 1, 'taro': 1},\n",
              "  'b4': {'bongo': 1, 'dumba': 1, 'eru': 0, 'koki': 1, 'okok': 1, 'taro': 1},\n",
              "  'b5': {'bongo': 1, 'dumba': 1, 'eru': 0, 'koki': 1, 'okok': 1, 'taro': 1},\n",
              "  'b6': {'bongo': 1, 'dumba': 1, 'eru': 0, 'koki': 1, 'okok': 1, 'taro': 1},\n",
              "  'bongo': {'b1': 0, 'b2': 0, 'b3': 0, 'b4': 0, 'b5': 0, 'b6': 1},\n",
              "  'dumba': {'b1': 0, 'b2': 0, 'b3': 0, 'b4': 0, 'b5': 0, 'b6': 1},\n",
              "  'eru': {'b1': 1, 'b2': 1, 'b3': 1, 'b4': 1, 'b5': 1, 'b6': 1},\n",
              "  'koki': {'b1': 0, 'b2': 0, 'b3': 0, 'b4': 0, 'b5': 0, 'b6': 1},\n",
              "  'okok': {'b1': 0, 'b2': 0, 'b3': 0, 'b4': 0, 'b5': 0, 'b6': 1},\n",
              "  'taro': {'b1': 0, 'b2': 0, 'b3': 0, 'b4': 0, 'b5': 0, 'b6': 1}}}"
            ]
          },
          "metadata": {
            "tags": []
          },
          "execution_count": 100
        }
      ]
    },
    {
      "cell_type": "markdown",
      "metadata": {
        "id": "L3IQd6ESbZr-"
      },
      "source": [
        "## **Étape 2 : Détermination des indices de concordance globaux**"
      ]
    },
    {
      "cell_type": "code",
      "metadata": {
        "colab": {
          "base_uri": "https://localhost:8080/"
        },
        "id": "2LRA7zGqbPNX",
        "outputId": "55d84c94-23d1-4ec5-97cc-847efd7d1c84"
      },
      "source": [
        "C =  get_indices_de_concordance_globaux(n = len(criteres), indices_de_concordance_partiels = c, proids = poids)\n",
        "C"
      ],
      "execution_count": 101,
      "outputs": [
        {
          "output_type": "execute_result",
          "data": {
            "text/plain": [
              "{'b1': {'bongo': 0.75,\n",
              "  'dumba': 0.625,\n",
              "  'eru': 0.625,\n",
              "  'koki': 0.75,\n",
              "  'okok': 0.375,\n",
              "  'taro': 0.625},\n",
              " 'b2': {'bongo': 0.625,\n",
              "  'dumba': 0.5,\n",
              "  'eru': 0.25,\n",
              "  'koki': 0.625,\n",
              "  'okok': 0.25,\n",
              "  'taro': 0.625},\n",
              " 'b3': {'bongo': 0.625,\n",
              "  'dumba': 0.5,\n",
              "  'eru': 0.25,\n",
              "  'koki': 0.625,\n",
              "  'okok': 0.25,\n",
              "  'taro': 0.625},\n",
              " 'b4': {'bongo': 0.625,\n",
              "  'dumba': 0.5,\n",
              "  'eru': 0.25,\n",
              "  'koki': 0.625,\n",
              "  'okok': 0.25,\n",
              "  'taro': 0.625},\n",
              " 'b5': {'bongo': 0.625,\n",
              "  'dumba': 0.5,\n",
              "  'eru': 0.25,\n",
              "  'koki': 0.625,\n",
              "  'okok': 0.25,\n",
              "  'taro': 0.625},\n",
              " 'b6': {'bongo': 0.75,\n",
              "  'dumba': 0.875,\n",
              "  'eru': 0.5,\n",
              "  'koki': 0.75,\n",
              "  'okok': 0.75,\n",
              "  'taro': 0.875},\n",
              " 'bongo': {'b1': 0.75,\n",
              "  'b2': 0.375,\n",
              "  'b3': 0.375,\n",
              "  'b4': 0.375,\n",
              "  'b5': 0.375,\n",
              "  'b6': 0.625},\n",
              " 'dumba': {'b1': 0.75, 'b2': 0.5, 'b3': 0.5, 'b4': 0.5, 'b5': 0.5, 'b6': 0.75},\n",
              " 'eru': {'b1': 1.0,\n",
              "  'b2': 0.75,\n",
              "  'b3': 0.75,\n",
              "  'b4': 0.75,\n",
              "  'b5': 0.75,\n",
              "  'b6': 0.75},\n",
              " 'koki': {'b1': 0.75,\n",
              "  'b2': 0.375,\n",
              "  'b3': 0.375,\n",
              "  'b4': 0.375,\n",
              "  'b5': 0.375,\n",
              "  'b6': 0.625},\n",
              " 'okok': {'b1': 0.75,\n",
              "  'b2': 0.75,\n",
              "  'b3': 0.75,\n",
              "  'b4': 0.75,\n",
              "  'b5': 0.75,\n",
              "  'b6': 1.0},\n",
              " 'taro': {'b1': 0.625,\n",
              "  'b2': 0.375,\n",
              "  'b3': 0.375,\n",
              "  'b4': 0.375,\n",
              "  'b5': 0.375,\n",
              "  'b6': 0.75}}"
            ]
          },
          "metadata": {
            "tags": []
          },
          "execution_count": 101
        }
      ]
    },
    {
      "cell_type": "markdown",
      "metadata": {
        "id": "h_Z0imkWbf0Z"
      },
      "source": [
        "### Étape 3 & 4 : Relation de surclassement & Procédures d’affectation"
      ]
    },
    {
      "cell_type": "markdown",
      "metadata": {
        "id": "7lXBC9_GbjsM"
      },
      "source": [
        "### **1) pessimiste**"
      ]
    },
    {
      "cell_type": "code",
      "metadata": {
        "colab": {
          "base_uri": "https://localhost:8080/"
        },
        "id": "eB2lYeeYbnCw",
        "outputId": "9ca91a10-e1a3-4fa4-fbe8-e5cca88e54e4"
      },
      "source": [
        "categotiries_pessimist = PessimisticmajoritySorting(categories = categories, aliments = aliments, profils = profils, indices_de_concordance_globaux = C, seuil_de_majorite = seuil_de_majorite) \n",
        "categotiries_pessimist"
      ],
      "execution_count": 102,
      "outputs": [
        {
          "output_type": "execute_result",
          "data": {
            "text/plain": [
              "{'bongo': 'A', 'dumba': 'E', 'eru': 'E', 'koki': 'A', 'okok': 'E', 'taro': 'A'}"
            ]
          },
          "metadata": {
            "tags": []
          },
          "execution_count": 102
        }
      ]
    },
    {
      "cell_type": "markdown",
      "metadata": {
        "id": "x0CqjIY0XJx6"
      },
      "source": [
        "**Ecriture du résultat dans le fichier de sortie, sur la feuille ```categotiries_pessimistes```**"
      ]
    },
    {
      "cell_type": "code",
      "metadata": {
        "id": "PXGAedp5cQmt"
      },
      "source": [
        "to_excel(categotiries_pessimist, output_file_pesimite, \"categotiries_pessimistes\")"
      ],
      "execution_count": 103,
      "outputs": []
    },
    {
      "cell_type": "markdown",
      "metadata": {
        "id": "CTYfis2nb_3e"
      },
      "source": [
        "### **2) Optimiste**"
      ]
    },
    {
      "cell_type": "code",
      "metadata": {
        "id": "o1aVc5sEbe_K"
      },
      "source": [
        "categotiries_optimist = OptimisticmajoritySorting(categories = categories, aliments = aliments, profils = profils, indices_de_concordance_globaux = C, seuil_de_majorite = seuil_de_majorite)"
      ],
      "execution_count": 104,
      "outputs": []
    },
    {
      "cell_type": "code",
      "metadata": {
        "colab": {
          "base_uri": "https://localhost:8080/"
        },
        "id": "UmdLQ2KAwQJw",
        "outputId": "5c8e887e-b741-4b2c-e01a-000322f68f2d"
      },
      "source": [
        "categotiries_optimist"
      ],
      "execution_count": 105,
      "outputs": [
        {
          "output_type": "execute_result",
          "data": {
            "text/plain": [
              "{'bongo': 'A', 'dumba': 'E', 'eru': 'E', 'koki': 'A', 'okok': 'E', 'taro': 'A'}"
            ]
          },
          "metadata": {
            "tags": []
          },
          "execution_count": 105
        }
      ]
    },
    {
      "cell_type": "markdown",
      "metadata": {
        "id": "jSWBuwGzXfjV"
      },
      "source": [
        "**Ecriture du résultat dans le fichier de sortie, sur la feuille ```categotiries_optimistes```**"
      ]
    },
    {
      "cell_type": "code",
      "metadata": {
        "id": "TvJe-X1HcUwL"
      },
      "source": [
        "to_excel(categotiries_optimist, output_file_optimiste, \"categotiries_optimistes\")"
      ],
      "execution_count": 106,
      "outputs": []
    }
  ]
}